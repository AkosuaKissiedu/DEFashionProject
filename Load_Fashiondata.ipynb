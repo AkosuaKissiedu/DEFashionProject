{
 "cells": [
  {
   "cell_type": "code",
   "execution_count": 1,
   "id": "dc29ea8f-552a-4e7d-9e64-12d2db22e6fa",
   "metadata": {},
   "outputs": [],
   "source": [
    "import boto3\n",
    "from pyathena import connect"
   ]
  },
  {
   "cell_type": "code",
   "execution_count": 2,
   "id": "a02ba72c-50af-4a60-b375-7f8702d93f94",
   "metadata": {},
   "outputs": [],
   "source": [
    "session = boto3.Session(profile_name=\"default\")"
   ]
  },
  {
   "cell_type": "markdown",
   "id": "b2241062-1c2b-4332-aaca-3fceded9b4c3",
   "metadata": {},
   "source": [
    "# Create Database in Athena"
   ]
  },
  {
   "cell_type": "code",
   "execution_count": 6,
   "id": "7d645962-71fe-47ae-9abb-c5f23aec3b32",
   "metadata": {},
   "outputs": [],
   "source": [
    "conn = connect(s3_staging_dir = \"s3://akfashiontrendsproject/athena_staging_directory/\", region_name = \"us-east-1\")"
   ]
  },
  {
   "cell_type": "code",
   "execution_count": 5,
   "id": "a674e503-2419-429a-9be0-eeac7ffbe728",
   "metadata": {},
   "outputs": [],
   "source": [
    "# Define the SQL query to create a database\n",
    "create_db_query = \"CREATE DATABASE IF NOT EXISTS fashion_items;\""
   ]
  },
  {
   "cell_type": "code",
   "execution_count": 6,
   "id": "94f65dbb-fa51-4430-81f8-f8c90edef313",
   "metadata": {},
   "outputs": [
    {
     "name": "stdout",
     "output_type": "stream",
     "text": [
      "Database created successfully.\n"
     ]
    }
   ],
   "source": [
    "with conn.cursor() as cursor:\n",
    "    cursor.execute(create_db_query)\n",
    "    print(\"Database created successfully.\")"
   ]
  },
  {
   "cell_type": "markdown",
   "id": "e8004517-a778-43b2-be16-047d27f5e99a",
   "metadata": {},
   "source": [
    "# Create Data table in Athena"
   ]
  },
  {
   "cell_type": "code",
   "execution_count": 9,
   "id": "9a086e0f-9f21-4950-a7c1-f4a7083ea66b",
   "metadata": {},
   "outputs": [],
   "source": [
    "create_table_query = \"\"\"CREATE EXTERNAL TABLE IF NOT EXISTS fashion_items.vestaire_collective (\n",
    "    product_id INT,\n",
    "    product_type STRING,\n",
    "    product_name STRING,\n",
    "    product_description STRING,\n",
    "    product_gender_target STRING,\n",
    "    product_category STRING,\n",
    "    product_season STRING,\n",
    "    product_condition STRING,\n",
    "    product_like_count INT,\n",
    "    brand_id INT,\n",
    "    brand_name STRING,\n",
    "    brand_url STRING,\n",
    "    product_material STRING,\n",
    "    product_color STRING,\n",
    "    price_usd DOUBLE,\n",
    "    seller_price DOUBLE,\n",
    "    seller_earning DOUBLE,\n",
    "    seller_badge STRING,\n",
    "    seller_id INT,\n",
    "    seller_country STRING,\n",
    "    product_type_recategorized STRING,\n",
    "    luxury_brands STRING\n",
    "    ) \n",
    "    ROW FORMAT SERDE 'org.apache.hadoop.hive.ql.io.parquet.serde.ParquetHiveSerDe'\n",
    "    STORED AS INPUTFORMAT 'org.apache.hadoop.hive.ql.io.parquet.MapredParquetInputFormat'\n",
    "    OUTPUTFORMAT 'org.apache.hadoop.hive.ql.io.parquet.MapredParquetOutputFormat'\n",
    "    LOCATION 's3://akfashiontrendsproject/processed_data/parquet_data/'\n",
    "\"\"\""
   ]
  },
  {
   "cell_type": "code",
   "execution_count": 10,
   "id": "7e8508ef-cad2-4b99-899f-2c53c31a7b56",
   "metadata": {},
   "outputs": [
    {
     "name": "stdout",
     "output_type": "stream",
     "text": [
      "Table created successfully.\n"
     ]
    }
   ],
   "source": [
    "with conn.cursor() as cursor:\n",
    "    cursor.execute(create_table_query)\n",
    "    print(\"Table created successfully.\")"
   ]
  },
  {
   "cell_type": "code",
   "execution_count": null,
   "id": "0fa51a0b-f49f-4746-b46e-d4154488c6b9",
   "metadata": {},
   "outputs": [],
   "source": []
  }
 ],
 "metadata": {
  "kernelspec": {
   "display_name": "Python (envname)",
   "language": "python",
   "name": "envname"
  },
  "language_info": {
   "codemirror_mode": {
    "name": "ipython",
    "version": 3
   },
   "file_extension": ".py",
   "mimetype": "text/x-python",
   "name": "python",
   "nbconvert_exporter": "python",
   "pygments_lexer": "ipython3",
   "version": "3.12.3"
  }
 },
 "nbformat": 4,
 "nbformat_minor": 5
}
