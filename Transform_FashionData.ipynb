{
 "cells": [
  {
   "cell_type": "code",
   "execution_count": 1,
   "id": "f89bca5f-ffac-4287-aa06-323e60136d57",
   "metadata": {},
   "outputs": [],
   "source": [
    "import pandas as pd\n",
    "import boto3\n",
    "import io"
   ]
  },
  {
   "cell_type": "code",
   "execution_count": 2,
   "id": "9ddd5b0a-5ce2-403c-8b1c-129eb3fe08fe",
   "metadata": {},
   "outputs": [],
   "source": [
    "session = boto3.Session(profile_name=\"default\")"
   ]
  },
  {
   "cell_type": "code",
   "execution_count": 3,
   "id": "5da05144-e40f-41e3-ba98-d31e896f09d3",
   "metadata": {},
   "outputs": [],
   "source": [
    "#dataset_uri\n",
    "s3_uri = \"s3://akfashiontrendsproject/data/vestaire_collective_data.csv\""
   ]
  },
  {
   "cell_type": "code",
   "execution_count": 4,
   "id": "7aaa7698-b132-44bb-8f44-5525744f56ef",
   "metadata": {},
   "outputs": [],
   "source": [
    "df = pd.read_csv(s3_uri)"
   ]
  },
  {
   "cell_type": "code",
   "execution_count": null,
   "id": "4e770e0e-d625-4bde-b8c5-2c1d29a49b4f",
   "metadata": {},
   "outputs": [],
   "source": [
    "#Transform Data"
   ]
  },
  {
   "cell_type": "code",
   "execution_count": null,
   "id": "5ad35673-6374-496d-9a88-e0a7417b0abe",
   "metadata": {},
   "outputs": [],
   "source": [
    "#Subset needed columns exclude: seller_pass_rate, seller_num_followers, seller_community_rank, seller_username, usually_ships_within, has_cross_border_fees, warehouse_name, buyers_fees,\n",
    "#warehouse_name, sold, product_keywords, reserved, available, in_stock, should_be_gone\n",
    "#Check datatype of columns\n",
    "#Make proper case: product_name, brand_name, seller_country\n",
    "#Split into fact and dimension tables\n",
    "#Write to s3 \n",
    "#Build table to query in Athena"
   ]
  },
  {
   "cell_type": "code",
   "execution_count": 5,
   "id": "dae4290e-e398-48a7-8880-d8b5a1c1073b",
   "metadata": {},
   "outputs": [],
   "source": [
    "#new datafame \n",
    "df_updated = df[['product_id', 'product_type', 'product_name', 'product_description', 'product_gender_target', 'product_category',\n",
    "               'product_season', 'product_condition', 'product_like_count', 'brand_id',\n",
    "               'brand_name', 'brand_url', 'product_material', 'product_color','price_usd', 'seller_price', 'seller_earning', 'seller_badge',\n",
    "                'seller_id','seller_country']].copy()"
   ]
  },
  {
   "cell_type": "code",
   "execution_count": 6,
   "id": "b6862871-96f7-4faf-a267-b60a58284f1d",
   "metadata": {},
   "outputs": [],
   "source": [
    "variations = {\n",
    "    ('sunglasses',): 'sunglasses',\n",
    "    ('jackets', 'jacket'): 'jacket',\n",
    "    ('t-shirt',): 't-shirt', \n",
    "    ('shirt',): 'shirt', \n",
    "    ('watch', 'watches'): 'watch', \n",
    "    ('boot', 'boots'): 'boot',\n",
    "    ('pants', 'trousers'): 'trousers',\n",
    "    ('jeans', 'jean'): 'jeans',\n",
    "    ('trainers',): 'trainers',\n",
    "    ('flats',): 'flats',\n",
    "    ('dress', 'dresses'): 'dress',\n",
    "    ('sandal', 'sandals'): 'sandals',\n",
    "    ('heel', 'heels'): 'heels',\n",
    "    ('suit',): 'suit',\n",
    "    ('jumper',): 'jumper',\n",
    "    ('skirt',): 'skirt',\n",
    "    ('coat', 'trenchcoat'): 'coat',\n",
    "    ('blouse', 'top'): 'top', \n",
    "    ('wallet', 'hat', 'ring', 'jewellery', 'choker', 'clutch', 'stole', 'mittens', 'cufflinks',\n",
    "     'neckerchief', 'pocket square','tie','belt','purse', 'gloves', 'handkerchief', 'tie',\n",
    "    'cap', 'lingerie'): 'accessories',\n",
    "    ('vest',): 'vest',\n",
    "    ('scarf',): 'scarf',\n",
    "    ('jumpsuit',): 'jumpsuit',\n",
    "    ('blazer',): 'blazer',\n",
    "    ('mules',): 'mules',\n",
    "    ('espadrilles',): 'espadrilles',\n",
    "    ('parka',): 'parka',\n",
    "    ('corset',): 'corset',\n",
    "    ('puffer',): 'puffer',\n",
    "    ('shorts','short'): 'shorts',\n",
    "    ('lace ups', 'lace-ups'): 'lace-ups',\n",
    "    ('cardigan') : 'cardigan',\n",
    "    ('flip flop') : 'flip flop',\n",
    "    ('tunic'): 'tunic'\n",
    "    \n",
    "}"
   ]
  },
  {
   "cell_type": "code",
   "execution_count": 7,
   "id": "521b76c6-e8f5-46c2-af79-e0882e0e2f7b",
   "metadata": {},
   "outputs": [],
   "source": [
    "df_updated['product_type_recategorized'] = df_updated['product_type'].apply(\n",
    "    lambda x: next(\n",
    "        (value for key_tuples, value in variations.items() if any(word in x.lower() for word in key_tuples)),\n",
    "        'other'\n",
    "    )\n",
    ")"
   ]
  },
  {
   "cell_type": "code",
   "execution_count": 15,
   "id": "c56cdb93-9b02-4ef5-97a8-b204fa755195",
   "metadata": {},
   "outputs": [],
   "source": [
    "#Clean and Format Data\n",
    "\n",
    "class FashionItem():\n",
    "    specified_column_types = {'product_id': 'int64', 'product_type': 'object', 'product_name': 'object',\n",
    "                     'product_description': 'object', 'product_gender_target': 'object', 'product_category': 'object',\n",
    "                     'product_season': 'object', 'product_condition': 'object', 'product_like_count': 'int64',\n",
    "                     'brand_id': 'int64', 'brand_name': 'object', 'brand_url': 'object', 'product_material': 'object',\n",
    "                     'product_color': 'object', 'price_usd': 'float64', 'seller_price': 'float64', 'seller_earning': 'float64',\n",
    "                     'seller_badge': 'object', 'seller_id': 'int64', 'seller_country': 'object', 'seller_products_sold': 'int64',\n",
    "                     'seller_num_products_listed': 'int64', 'product_type_recategorized':'object'}\n",
    "    \n",
    "    def check_data_type(self, dataframe:pd.DataFrame):\n",
    "         \"\"\"\n",
    "         Checks if datatypes if match specified datatypes\n",
    "\n",
    "         Args:\n",
    "             dataframe (pd.DataFrame): dataframe being processed\n",
    "\n",
    "         Returns:\n",
    "             None\n",
    "         \"\"\"\n",
    "         column_names = dataframe.columns\n",
    "         columns_datatypes = dataframe.dtypes.astype(str)\n",
    "        \n",
    "         df_columns_datatypes = pd.DataFrame({\n",
    "            'ColumnName': column_names,\n",
    "            'DataType': columns_datatypes.values})\n",
    "\n",
    "         df_columns_datatypes['Specified_Data_Type'] = df_columns_datatypes['ColumnName'].map(self.specified_column_types)\n",
    "\n",
    "         assert df_columns_datatypes['Specified_Data_Type'].equals(df_columns_datatypes['DataType']), f\"Datatypes dont match {df_columns_datatypes[df_columns_datatypes['Specified_Data_Type'] != df_columns_datatypes['DataType']]}\"\n",
    "\n",
    "\n",
    "    \n",
    "    def to_parquet(self, dataframe:pd.DataFrame, bucket_name:str, s3_key:str):\n",
    "        \"\"\" \n",
    "        Writes dataframe in json format to Athena\n",
    "\n",
    "        Args:\n",
    "            dataframe (pd.DataFrame): dataframe being written to s3\n",
    "            bucket_name (str): name of bucket to write to\n",
    "            s3_key (str): name of folder and file output sepreated by / \n",
    "            folder (str) : name of folder to write to\n",
    "\n",
    "        Returns:\n",
    "            None\n",
    "        \"\"\"        \n",
    "        buffer = io.BytesIO()\n",
    "        dataframe.to_parquet(buffer, engine='pyarrow')\n",
    "        buffer.seek(0)\n",
    "\n",
    "        s3 = boto3.client('s3')\n",
    "        s3.put_object(Body=buffer, Bucket=bucket_name, Key=s3_key)\n",
    "\n",
    "        "
   ]
  },
  {
   "cell_type": "code",
   "execution_count": 16,
   "id": "fb79641b-8e02-408d-91b7-4fdc09055ac2",
   "metadata": {},
   "outputs": [],
   "source": [
    "data_check = FashionItem()"
   ]
  },
  {
   "cell_type": "code",
   "execution_count": 17,
   "id": "1a8eaa42-cef6-479b-91e9-841b2473c013",
   "metadata": {},
   "outputs": [],
   "source": [
    "data_check.check_data_type(df_updated)"
   ]
  },
  {
   "cell_type": "code",
   "execution_count": 18,
   "id": "d80eb631-0d90-483b-8e22-dcd51e6753d4",
   "metadata": {},
   "outputs": [],
   "source": [
    "#update wrong datatypes\n",
    "df_updated['product_like_count'] = df_updated['product_like_count'].astype('int64')"
   ]
  },
  {
   "cell_type": "code",
   "execution_count": 19,
   "id": "c10f9f27-818a-47f3-a32a-d7a18fabe961",
   "metadata": {},
   "outputs": [],
   "source": [
    "#set selected columns to proper case \n",
    "df_updated['product_name'] = df_updated['product_name'].str.title()\n",
    "df_updated['brand_name'] = df_updated['brand_name'].str.title()\n",
    "df_updated['seller_country'] = df_updated['seller_country'].str.title()"
   ]
  },
  {
   "cell_type": "code",
   "execution_count": 21,
   "id": "83ca777e-1474-49a5-939b-c33950d81b4f",
   "metadata": {},
   "outputs": [
    {
     "data": {
      "text/plain": [
       "brand_name\n",
       "Gucci              41009\n",
       "Burberry           24018\n",
       "Dolce & Gabbana    22024\n",
       "Prada              20972\n",
       "Hermès             18711\n",
       "                   ...  \n",
       "Cliffs                 1\n",
       "Kim & Zozi             1\n",
       "Texas Robot            1\n",
       "Marta Ray              1\n",
       "Susana Traça           1\n",
       "Name: count, Length: 8884, dtype: int64"
      ]
     },
     "execution_count": 21,
     "metadata": {},
     "output_type": "execute_result"
    }
   ],
   "source": [
    "df_updated['brand_name'].value_counts()"
   ]
  },
  {
   "cell_type": "code",
   "execution_count": 20,
   "id": "35e1f50b-0593-48cc-857a-82abf7c35e11",
   "metadata": {},
   "outputs": [],
   "source": [
    "data_check.to_parquet(df_updated, 'akfashiontrendsproject', 'processed_data/vestaire_collective_data.parquet' )"
   ]
  }
 ],
 "metadata": {
  "kernelspec": {
   "display_name": "Python (envname)",
   "language": "python",
   "name": "envname"
  },
  "language_info": {
   "codemirror_mode": {
    "name": "ipython",
    "version": 3
   },
   "file_extension": ".py",
   "mimetype": "text/x-python",
   "name": "python",
   "nbconvert_exporter": "python",
   "pygments_lexer": "ipython3",
   "version": "3.12.3"
  }
 },
 "nbformat": 4,
 "nbformat_minor": 5
}
