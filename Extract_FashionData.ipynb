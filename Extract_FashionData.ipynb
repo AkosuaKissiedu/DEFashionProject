{
 "cells": [
  {
   "cell_type": "code",
   "execution_count": 1,
   "id": "b112546f-9db6-4d4a-9ce8-d2058cd75142",
   "metadata": {},
   "outputs": [],
   "source": [
    "import kaggle\n",
    "import pandas as pd\n",
    "import boto3\n",
    "from io import StringIO"
   ]
  },
  {
   "cell_type": "code",
   "execution_count": 2,
   "id": "005f4eb7-08af-4ea7-a065-d8ed944dad3a",
   "metadata": {},
   "outputs": [],
   "source": [
    "def access_data(kaggle_path:str, storage_path:str, full_storage_path:str):\n",
    "    \"\"\"\n",
    "    Dowwnloads and stores data from Kaggle on local machine\n",
    "\n",
    "    Args:\n",
    "        kaggle_path (str): identifier for dataset to be downloaded\n",
    "        storage_path (str): location to dowload data to\n",
    "        full_storage_path (str): location to pull data from\n",
    "\n",
    "    Returns\n",
    "        df (Pandas DataFrame): data loaded into a pandas dataframe\n",
    "    \"\"\"\n",
    "    kaggle.api.authenticate()\n",
    "    kaggle.api.dataset_download_files(kaggle_path, path=storage_path, unzip=True)\n",
    "    with open(full_storage_path, 'r',encoding='utf-8') as dataset:\n",
    "        df = pd.read_csv(dataset)\n",
    "    return df"
   ]
  },
  {
   "cell_type": "code",
   "execution_count": 3,
   "id": "f70e9fff-d415-4c55-a7be-d3c92c02c35b",
   "metadata": {},
   "outputs": [
    {
     "name": "stdout",
     "output_type": "stream",
     "text": [
      "Dataset URL: https://www.kaggle.com/datasets/justinpakzad/vestiaire-fashion-dataset\n"
     ]
    }
   ],
   "source": [
    "df = access_data(\"justinpakzad/vestiaire-fashion-dataset\", 'data', 'C:/Users/afari/Desktop/desktop items/python2024/BIEngineer-ProjectOne/data/vestiaire.csv')"
   ]
  },
  {
   "cell_type": "code",
   "execution_count": 5,
   "id": "87e1d1f2-7044-400a-a132-8865db905af9",
   "metadata": {},
   "outputs": [],
   "source": [
    "def write_to_s3(profile_name:str, bucketname:str, prefix:str, data:pd.DataFrame):\n",
    "    \"\"\"\n",
    "    Writes data from kaggle to bucket in s3\n",
    "\n",
    "    Args\n",
    "        profile_name (str): name of aws profile with  key credentials \n",
    "        bucketname (str): name of bucket to push data to\n",
    "        prefix (str): location within bucket to store data and file name \n",
    "        data (pd.DataFrame): dataset to be written to s3\n",
    "\n",
    "    Returns\n",
    "        None\n",
    "    \"\"\"\n",
    "    csv_buffer = StringIO()\n",
    "    dataframe = data\n",
    "    dataframe.to_csv(csv_buffer, index=False)\n",
    "    session = boto3.Session(profile_name=profile_name)\n",
    "    s3_client = session.client('s3')\n",
    "    bucketname = bucketname\n",
    "    prefix = prefix\n",
    "    s3_client.put_object(Bucket=bucketname, Key=prefix, Body=csv_buffer.getvalue())\n",
    "    "
   ]
  },
  {
   "cell_type": "code",
   "execution_count": 6,
   "id": "4dc59c4d-e69c-4a4b-8f93-74ed1b760d30",
   "metadata": {},
   "outputs": [],
   "source": [
    "write_to_s3('default', \"akfashiontrendsproject\", \"data/vestaire_collective_data.csv\", df)"
   ]
  },
  {
   "cell_type": "code",
   "execution_count": null,
   "id": "afbc684a-24a9-4db2-a8aa-2bbbf702af53",
   "metadata": {},
   "outputs": [],
   "source": []
  }
 ],
 "metadata": {
  "kernelspec": {
   "display_name": "Python (envname)",
   "language": "python",
   "name": "envname"
  },
  "language_info": {
   "codemirror_mode": {
    "name": "ipython",
    "version": 3
   },
   "file_extension": ".py",
   "mimetype": "text/x-python",
   "name": "python",
   "nbconvert_exporter": "python",
   "pygments_lexer": "ipython3",
   "version": "3.12.3"
  }
 },
 "nbformat": 4,
 "nbformat_minor": 5
}
